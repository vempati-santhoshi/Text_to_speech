{
  "nbformat": 4,
  "nbformat_minor": 0,
  "metadata": {
    "colab": {
      "provenance": [],
      "gpuType": "T4"
    },
    "kernelspec": {
      "name": "python3",
      "display_name": "Python 3"
    },
    "language_info": {
      "name": "python"
    },
    "accelerator": "GPU"
  },
  "cells": [
    {
      "cell_type": "code",
      "execution_count": null,
      "metadata": {
        "colab": {
          "base_uri": "https://localhost:8080/"
        },
        "id": "nO7mbZReO-2R",
        "outputId": "5928d34d-794e-49e6-fe1e-0073dff12249"
      },
      "outputs": [
        {
          "output_type": "stream",
          "name": "stdout",
          "text": [
            "nvcc: NVIDIA (R) Cuda compiler driver\n",
            "Copyright (c) 2005-2023 NVIDIA Corporation\n",
            "Built on Tue_Aug_15_22:02:13_PDT_2023\n",
            "Cuda compilation tools, release 12.2, V12.2.140\n",
            "Build cuda_12.2.r12.2/compiler.33191640_0\n",
            "fatal: destination path 'Wav2Lip' already exists and is not an empty directory.\n",
            "ls: cannot access '/content/gdrive/MyDrive/Wav2Lip': No such file or directory\n",
            "cp: cannot stat '/content/gdrive/MyDrive/Wav2Lip/wav2lip_gan.pth': No such file or directory\n",
            "Found existing installation: numpy 1.23.5\n",
            "Uninstalling numpy-1.23.5:\n",
            "  Would remove:\n",
            "    /usr/local/bin/f2py\n",
            "    /usr/local/bin/f2py3\n",
            "    /usr/local/bin/f2py3.10\n",
            "    /usr/local/lib/python3.10/dist-packages/numpy-1.23.5.dist-info/*\n",
            "    /usr/local/lib/python3.10/dist-packages/numpy.libs/libgfortran-040039e1.so.5.0.0\n",
            "    /usr/local/lib/python3.10/dist-packages/numpy.libs/libopenblas64_p-r0-742d56dc.3.20.so\n",
            "    /usr/local/lib/python3.10/dist-packages/numpy.libs/libquadmath-96973f99.so.0.0.0\n",
            "    /usr/local/lib/python3.10/dist-packages/numpy/*\n",
            "Proceed (Y/n)? n\n",
            "\u001b[33mWARNING: Ignoring invalid distribution -ensorflow (/usr/local/lib/python3.10/dist-packages)\u001b[0m\u001b[33m\n",
            "\u001b[0mRequirement already satisfied: numpy<1.24 in /usr/local/lib/python3.10/dist-packages (1.23.5)\n",
            "\u001b[33mWARNING: Ignoring invalid distribution -ensorflow (/usr/local/lib/python3.10/dist-packages)\u001b[0m\u001b[33m\n",
            "\u001b[0m"
          ]
        }
      ],
      "source": [
        "# -- coding: utf-8 --\n",
        "\"\"\"Wav2Lip_quick_trial.ipynb\"\"\"\n",
        "# Install necessary packages and mount Google Drive\n",
        "!nvcc --version  # Check NVIDIA CUDA installation\n",
        "\n",
        "# Clone the Wav2Lip repository\n",
        "!git clone https://github.com/Rudrabha/Wav2Lip.git\n",
        "!ls /content/gdrive/MyDrive/Wav2Lip  # Verify files in Drive\n",
        "\n",
        "# Copy pre-trained Wav2Lip checkpoint to local Colab directory\n",
        "!cp -ri \"/content/gdrive/MyDrive/Wav2Lip/wav2lip_gan.pth\" /content/Wav2Lip/checkpoints/\n",
        "\n",
        "!pip uninstall numpy\n",
        "!pip install \"numpy<1.24\"\n"
      ]
    },
    {
      "cell_type": "code",
      "source": [
        "# Uninstall TensorFlow (if any version conflicts arise)\n",
        "!pip uninstall -y tensorflow tensorflow-gpu\n",
        "\n",
        "# Install the required dependencies\n",
        "!cd Wav2Lip && pip install -r requirements.txt\n",
        "\n",
        "# Download the required S3FD face detection model\n",
        "!wget \"https://www.adrianbulat.com/downloads/python-fan/s3fd-619a316812.pth\" -O \"Wav2Lip/face_detection/detection/sfd/s3fd.pth\""
      ],
      "metadata": {
        "colab": {
          "base_uri": "https://localhost:8080/"
        },
        "id": "8Jf8siQtPVe_",
        "outputId": "e8d46f5b-81d1-4629-89bd-4bb598bab6be"
      },
      "execution_count": null,
      "outputs": [
        {
          "output_type": "stream",
          "name": "stdout",
          "text": [
            "\u001b[33mWARNING: Ignoring invalid distribution -ensorflow (/usr/local/lib/python3.10/dist-packages)\u001b[0m\u001b[33m\n",
            "\u001b[0m\u001b[33mWARNING: Skipping tensorflow as it is not installed.\u001b[0m\u001b[33m\n",
            "\u001b[0m\u001b[33mWARNING: Ignoring invalid distribution -ensorflow (/usr/local/lib/python3.10/dist-packages)\u001b[0m\u001b[33m\n",
            "\u001b[0m\u001b[33mWARNING: Skipping tensorflow-gpu as it is not installed.\u001b[0m\u001b[33m\n",
            "\u001b[0m\u001b[33mWARNING: Ignoring invalid distribution -ensorflow (/usr/local/lib/python3.10/dist-packages)\u001b[0m\u001b[33m\n",
            "\u001b[0mCollecting librosa==0.7.0 (from -r requirements.txt (line 1))\n",
            "  Using cached librosa-0.7.0.tar.gz (1.6 MB)\n",
            "  Preparing metadata (setup.py) ... \u001b[?25l\u001b[?25hdone\n",
            "Collecting numpy==1.17.1 (from -r requirements.txt (line 2))\n",
            "  Downloading numpy-1.17.1.zip (6.5 MB)\n",
            "\u001b[2K     \u001b[90m━━━━━━━━━━━━━━━━━━━━━━━━━━━━━━━━━━━━━━━━\u001b[0m \u001b[32m6.5/6.5 MB\u001b[0m \u001b[31m62.5 MB/s\u001b[0m eta \u001b[36m0:00:00\u001b[0m\n",
            "\u001b[?25h  Preparing metadata (setup.py) ... \u001b[?25l\u001b[?25hdone\n",
            "Requirement already satisfied: opencv-contrib-python>=4.2.0.34 in /usr/local/lib/python3.10/dist-packages (from -r requirements.txt (line 3)) (4.10.0.84)\n",
            "\u001b[31mERROR: Ignored the following yanked versions: 3.4.11.39, 3.4.17.61, 4.4.0.42, 4.4.0.44, 4.5.4.58, 4.5.5.62, 4.7.0.68\u001b[0m\u001b[31m\n",
            "\u001b[0m\u001b[31mERROR: Could not find a version that satisfies the requirement opencv-python==4.1.0.25 (from versions: 3.4.0.14, 3.4.10.37, 3.4.11.41, 3.4.11.43, 3.4.11.45, 3.4.13.47, 3.4.15.55, 3.4.16.57, 3.4.16.59, 3.4.17.63, 3.4.18.65, 4.3.0.38, 4.4.0.40, 4.4.0.46, 4.5.1.48, 4.5.3.56, 4.5.4.60, 4.5.5.64, 4.6.0.66, 4.7.0.72, 4.8.0.74, 4.8.0.76, 4.8.1.78, 4.9.0.80, 4.10.0.82, 4.10.0.84)\u001b[0m\u001b[31m\n",
            "\u001b[0m\u001b[31mERROR: No matching distribution found for opencv-python==4.1.0.25\u001b[0m\u001b[31m\n",
            "\u001b[0m--2024-11-18 06:01:23--  https://www.adrianbulat.com/downloads/python-fan/s3fd-619a316812.pth\n",
            "Resolving www.adrianbulat.com (www.adrianbulat.com)... 45.136.29.207\n",
            "Connecting to www.adrianbulat.com (www.adrianbulat.com)|45.136.29.207|:443... connected.\n",
            "HTTP request sent, awaiting response... 200 OK\n",
            "Length: 89843225 (86M) [application/octet-stream]\n",
            "Saving to: ‘Wav2Lip/face_detection/detection/sfd/s3fd.pth’\n",
            "\n",
            "Wav2Lip/face_detect 100%[===================>]  85.68M  22.3MB/s    in 4.7s    \n",
            "\n",
            "2024-11-18 06:01:28 (18.4 MB/s) - ‘Wav2Lip/face_detection/detection/sfd/s3fd.pth’ saved [89843225/89843225]\n",
            "\n"
          ]
        }
      ]
    },
    {
      "cell_type": "code",
      "source": [
        "# Create the checkpoints directory if it does not exist\n",
        "!mkdir -p checkpoints\n",
        "# Download the Wav2Lip GAN model checkpoint\n",
        "!wget 'https://iiitaphyd-my.sharepoint.com/personal/radrabha_m_research_iiit_ac_in/_layouts/15/download.aspx?share=EdjI7bZlgApMqsVoEUUXpLsBxqXbn5z8VTmoxp55YNDcIA' -O checkpoints/wav2lip_gan.pth\n"
      ],
      "metadata": {
        "colab": {
          "base_uri": "https://localhost:8080/"
        },
        "id": "8DsA6VvhVfwP",
        "outputId": "079aca97-68b5-4d33-f02d-2cc63ece65b8"
      },
      "execution_count": null,
      "outputs": [
        {
          "output_type": "stream",
          "name": "stdout",
          "text": [
            "--2024-11-18 06:01:28--  https://iiitaphyd-my.sharepoint.com/personal/radrabha_m_research_iiit_ac_in/_layouts/15/download.aspx?share=EdjI7bZlgApMqsVoEUUXpLsBxqXbn5z8VTmoxp55YNDcIA\n",
            "Resolving iiitaphyd-my.sharepoint.com (iiitaphyd-my.sharepoint.com)... 13.107.136.10, 13.107.138.10, 2620:1ec:8f8::10, ...\n",
            "Connecting to iiitaphyd-my.sharepoint.com (iiitaphyd-my.sharepoint.com)|13.107.136.10|:443... connected.\n",
            "HTTP request sent, awaiting response... 200 OK\n",
            "Length: 435801865 (416M) [application/octet-stream]\n",
            "Saving to: ‘checkpoints/wav2lip_gan.pth’\n",
            "\n",
            "checkpoints/wav2lip 100%[===================>] 415.61M  19.1MB/s    in 27s     \n",
            "\n",
            "2024-11-18 06:01:56 (15.3 MB/s) - ‘checkpoints/wav2lip_gan.pth’ saved [435801865/435801865]\n",
            "\n"
          ]
        }
      ]
    },
    {
      "cell_type": "code",
      "source": [
        "!pip install gradio"
      ],
      "metadata": {
        "colab": {
          "base_uri": "https://localhost:8080/"
        },
        "id": "LBZWTmi8dXee",
        "outputId": "06969fbd-f143-43cd-eb01-8abf921eb04a"
      },
      "execution_count": null,
      "outputs": [
        {
          "output_type": "stream",
          "name": "stdout",
          "text": [
            "\u001b[33mWARNING: Ignoring invalid distribution -ensorflow (/usr/local/lib/python3.10/dist-packages)\u001b[0m\u001b[33m\n",
            "\u001b[0mCollecting gradio\n",
            "  Downloading gradio-5.6.0-py3-none-any.whl.metadata (16 kB)\n",
            "Collecting aiofiles<24.0,>=22.0 (from gradio)\n",
            "  Downloading aiofiles-23.2.1-py3-none-any.whl.metadata (9.7 kB)\n",
            "Requirement already satisfied: anyio<5.0,>=3.0 in /usr/local/lib/python3.10/dist-packages (from gradio) (3.7.1)\n",
            "Collecting fastapi<1.0,>=0.115.2 (from gradio)\n",
            "  Downloading fastapi-0.115.5-py3-none-any.whl.metadata (27 kB)\n",
            "Collecting ffmpy (from gradio)\n",
            "  Downloading ffmpy-0.4.0-py3-none-any.whl.metadata (2.9 kB)\n",
            "Collecting gradio-client==1.4.3 (from gradio)\n",
            "  Downloading gradio_client-1.4.3-py3-none-any.whl.metadata (7.1 kB)\n",
            "Collecting httpx>=0.24.1 (from gradio)\n",
            "  Downloading httpx-0.27.2-py3-none-any.whl.metadata (7.1 kB)\n",
            "Collecting huggingface-hub>=0.25.1 (from gradio)\n",
            "  Downloading huggingface_hub-0.26.2-py3-none-any.whl.metadata (13 kB)\n",
            "Requirement already satisfied: jinja2<4.0 in /usr/local/lib/python3.10/dist-packages (from gradio) (3.1.4)\n",
            "Requirement already satisfied: markupsafe~=2.0 in /usr/local/lib/python3.10/dist-packages (from gradio) (2.1.5)\n",
            "Requirement already satisfied: numpy<3.0,>=1.0 in /usr/local/lib/python3.10/dist-packages (from gradio) (1.23.5)\n",
            "Collecting orjson~=3.0 (from gradio)\n",
            "  Downloading orjson-3.10.11-cp310-cp310-manylinux_2_17_x86_64.manylinux2014_x86_64.whl.metadata (50 kB)\n",
            "\u001b[2K     \u001b[90m━━━━━━━━━━━━━━━━━━━━━━━━━━━━━━━━━━━━━━━━\u001b[0m \u001b[32m50.8/50.8 kB\u001b[0m \u001b[31m628.2 kB/s\u001b[0m eta \u001b[36m0:00:00\u001b[0m\n",
            "\u001b[?25hRequirement already satisfied: packaging in /usr/local/lib/python3.10/dist-packages (from gradio) (24.1)\n",
            "Requirement already satisfied: pandas<3.0,>=1.0 in /usr/local/lib/python3.10/dist-packages (from gradio) (2.1.4)\n",
            "Requirement already satisfied: pillow<12.0,>=8.0 in /usr/local/lib/python3.10/dist-packages (from gradio) (10.4.0)\n",
            "Requirement already satisfied: pydantic>=2.0 in /usr/local/lib/python3.10/dist-packages (from gradio) (2.9.2)\n",
            "Collecting pydub (from gradio)\n",
            "  Downloading pydub-0.25.1-py2.py3-none-any.whl.metadata (1.4 kB)\n",
            "Collecting python-multipart==0.0.12 (from gradio)\n",
            "  Downloading python_multipart-0.0.12-py3-none-any.whl.metadata (1.9 kB)\n",
            "Requirement already satisfied: pyyaml<7.0,>=5.0 in /usr/local/lib/python3.10/dist-packages (from gradio) (6.0.2)\n",
            "Collecting ruff>=0.2.2 (from gradio)\n",
            "  Downloading ruff-0.7.4-py3-none-manylinux_2_17_x86_64.manylinux2014_x86_64.whl.metadata (25 kB)\n",
            "Collecting safehttpx<1.0,>=0.1.1 (from gradio)\n",
            "  Downloading safehttpx-0.1.1-py3-none-any.whl.metadata (4.1 kB)\n",
            "Collecting semantic-version~=2.0 (from gradio)\n",
            "  Downloading semantic_version-2.10.0-py2.py3-none-any.whl.metadata (9.7 kB)\n",
            "Collecting starlette<1.0,>=0.40.0 (from gradio)\n",
            "  Downloading starlette-0.41.2-py3-none-any.whl.metadata (6.0 kB)\n",
            "Collecting tomlkit==0.12.0 (from gradio)\n",
            "  Downloading tomlkit-0.12.0-py3-none-any.whl.metadata (2.7 kB)\n",
            "Requirement already satisfied: typer<1.0,>=0.12 in /usr/local/lib/python3.10/dist-packages (from gradio) (0.12.5)\n",
            "Requirement already satisfied: typing-extensions~=4.0 in /usr/local/lib/python3.10/dist-packages (from gradio) (4.12.2)\n",
            "Collecting uvicorn>=0.14.0 (from gradio)\n",
            "  Downloading uvicorn-0.32.0-py3-none-any.whl.metadata (6.6 kB)\n",
            "Requirement already satisfied: fsspec in /usr/local/lib/python3.10/dist-packages (from gradio-client==1.4.3->gradio) (2024.6.1)\n",
            "Collecting websockets<13.0,>=10.0 (from gradio-client==1.4.3->gradio)\n",
            "  Downloading websockets-12.0-cp310-cp310-manylinux_2_5_x86_64.manylinux1_x86_64.manylinux_2_17_x86_64.manylinux2014_x86_64.whl.metadata (6.6 kB)\n",
            "Requirement already satisfied: idna>=2.8 in /usr/local/lib/python3.10/dist-packages (from anyio<5.0,>=3.0->gradio) (3.10)\n",
            "Requirement already satisfied: sniffio>=1.1 in /usr/local/lib/python3.10/dist-packages (from anyio<5.0,>=3.0->gradio) (1.3.1)\n",
            "Requirement already satisfied: exceptiongroup in /usr/local/lib/python3.10/dist-packages (from anyio<5.0,>=3.0->gradio) (1.2.2)\n",
            "Requirement already satisfied: certifi in /usr/local/lib/python3.10/dist-packages (from httpx>=0.24.1->gradio) (2024.8.30)\n",
            "Collecting httpcore==1.* (from httpx>=0.24.1->gradio)\n",
            "  Downloading httpcore-1.0.7-py3-none-any.whl.metadata (21 kB)\n",
            "Collecting h11<0.15,>=0.13 (from httpcore==1.*->httpx>=0.24.1->gradio)\n",
            "  Downloading h11-0.14.0-py3-none-any.whl.metadata (8.2 kB)\n",
            "Requirement already satisfied: filelock in /usr/local/lib/python3.10/dist-packages (from huggingface-hub>=0.25.1->gradio) (3.16.1)\n",
            "Requirement already satisfied: requests in /usr/local/lib/python3.10/dist-packages (from huggingface-hub>=0.25.1->gradio) (2.32.3)\n",
            "Requirement already satisfied: tqdm>=4.42.1 in /usr/local/lib/python3.10/dist-packages (from huggingface-hub>=0.25.1->gradio) (4.66.5)\n",
            "Requirement already satisfied: python-dateutil>=2.8.2 in /usr/local/lib/python3.10/dist-packages (from pandas<3.0,>=1.0->gradio) (2.8.2)\n",
            "Requirement already satisfied: pytz>=2020.1 in /usr/local/lib/python3.10/dist-packages (from pandas<3.0,>=1.0->gradio) (2024.2)\n",
            "Requirement already satisfied: tzdata>=2022.1 in /usr/local/lib/python3.10/dist-packages (from pandas<3.0,>=1.0->gradio) (2024.1)\n",
            "Requirement already satisfied: annotated-types>=0.6.0 in /usr/local/lib/python3.10/dist-packages (from pydantic>=2.0->gradio) (0.7.0)\n",
            "Requirement already satisfied: pydantic-core==2.23.4 in /usr/local/lib/python3.10/dist-packages (from pydantic>=2.0->gradio) (2.23.4)\n",
            "Requirement already satisfied: click>=8.0.0 in /usr/local/lib/python3.10/dist-packages (from typer<1.0,>=0.12->gradio) (8.1.7)\n",
            "Requirement already satisfied: shellingham>=1.3.0 in /usr/local/lib/python3.10/dist-packages (from typer<1.0,>=0.12->gradio) (1.5.4)\n",
            "Requirement already satisfied: rich>=10.11.0 in /usr/local/lib/python3.10/dist-packages (from typer<1.0,>=0.12->gradio) (13.8.1)\n",
            "Requirement already satisfied: six>=1.5 in /usr/local/lib/python3.10/dist-packages (from python-dateutil>=2.8.2->pandas<3.0,>=1.0->gradio) (1.16.0)\n",
            "Requirement already satisfied: markdown-it-py>=2.2.0 in /usr/local/lib/python3.10/dist-packages (from rich>=10.11.0->typer<1.0,>=0.12->gradio) (3.0.0)\n",
            "Requirement already satisfied: pygments<3.0.0,>=2.13.0 in /usr/local/lib/python3.10/dist-packages (from rich>=10.11.0->typer<1.0,>=0.12->gradio) (2.18.0)\n",
            "Requirement already satisfied: charset-normalizer<4,>=2 in /usr/local/lib/python3.10/dist-packages (from requests->huggingface-hub>=0.25.1->gradio) (3.3.2)\n",
            "Requirement already satisfied: urllib3<3,>=1.21.1 in /usr/local/lib/python3.10/dist-packages (from requests->huggingface-hub>=0.25.1->gradio) (2.2.3)\n",
            "Requirement already satisfied: mdurl~=0.1 in /usr/local/lib/python3.10/dist-packages (from markdown-it-py>=2.2.0->rich>=10.11.0->typer<1.0,>=0.12->gradio) (0.1.2)\n",
            "Downloading gradio-5.6.0-py3-none-any.whl (57.1 MB)\n",
            "\u001b[2K   \u001b[90m━━━━━━━━━━━━━━━━━━━━━━━━━━━━━━━━━━━━━━━━\u001b[0m \u001b[32m57.1/57.1 MB\u001b[0m \u001b[31m11.5 MB/s\u001b[0m eta \u001b[36m0:00:00\u001b[0m\n",
            "\u001b[?25hDownloading gradio_client-1.4.3-py3-none-any.whl (320 kB)\n",
            "\u001b[2K   \u001b[90m━━━━━━━━━━━━━━━━━━━━━━━━━━━━━━━━━━━━━━━━\u001b[0m \u001b[32m320.1/320.1 kB\u001b[0m \u001b[31m23.3 MB/s\u001b[0m eta \u001b[36m0:00:00\u001b[0m\n",
            "\u001b[?25hDownloading python_multipart-0.0.12-py3-none-any.whl (23 kB)\n",
            "Downloading tomlkit-0.12.0-py3-none-any.whl (37 kB)\n",
            "Downloading aiofiles-23.2.1-py3-none-any.whl (15 kB)\n",
            "Downloading fastapi-0.115.5-py3-none-any.whl (94 kB)\n",
            "\u001b[2K   \u001b[90m━━━━━━━━━━━━━━━━━━━━━━━━━━━━━━━━━━━━━━━━\u001b[0m \u001b[32m94.9/94.9 kB\u001b[0m \u001b[31m6.4 MB/s\u001b[0m eta \u001b[36m0:00:00\u001b[0m\n",
            "\u001b[?25hDownloading httpx-0.27.2-py3-none-any.whl (76 kB)\n",
            "\u001b[2K   \u001b[90m━━━━━━━━━━━━━━━━━━━━━━━━━━━━━━━━━━━━━━━━\u001b[0m \u001b[32m76.4/76.4 kB\u001b[0m \u001b[31m3.0 MB/s\u001b[0m eta \u001b[36m0:00:00\u001b[0m\n",
            "\u001b[?25hDownloading httpcore-1.0.7-py3-none-any.whl (78 kB)\n",
            "\u001b[2K   \u001b[90m━━━━━━━━━━━━━━━━━━━━━━━━━━━━━━━━━━━━━━━━\u001b[0m \u001b[32m78.6/78.6 kB\u001b[0m \u001b[31m6.7 MB/s\u001b[0m eta \u001b[36m0:00:00\u001b[0m\n",
            "\u001b[?25hDownloading huggingface_hub-0.26.2-py3-none-any.whl (447 kB)\n",
            "\u001b[2K   \u001b[90m━━━━━━━━━━━━━━━━━━━━━━━━━━━━━━━━━━━━━━━━\u001b[0m \u001b[32m447.5/447.5 kB\u001b[0m \u001b[31m20.0 MB/s\u001b[0m eta \u001b[36m0:00:00\u001b[0m\n",
            "\u001b[?25hDownloading orjson-3.10.11-cp310-cp310-manylinux_2_17_x86_64.manylinux2014_x86_64.whl (142 kB)\n",
            "\u001b[2K   \u001b[90m━━━━━━━━━━━━━━━━━━━━━━━━━━━━━━━━━━━━━━━━\u001b[0m \u001b[32m142.5/142.5 kB\u001b[0m \u001b[31m12.9 MB/s\u001b[0m eta \u001b[36m0:00:00\u001b[0m\n",
            "\u001b[?25hDownloading ruff-0.7.4-py3-none-manylinux_2_17_x86_64.manylinux2014_x86_64.whl (11.1 MB)\n",
            "\u001b[2K   \u001b[90m━━━━━━━━━━━━━━━━━━━━━━━━━━━━━━━━━━━━━━━━\u001b[0m \u001b[32m11.1/11.1 MB\u001b[0m \u001b[31m79.4 MB/s\u001b[0m eta \u001b[36m0:00:00\u001b[0m\n",
            "\u001b[?25hDownloading safehttpx-0.1.1-py3-none-any.whl (8.4 kB)\n",
            "Downloading semantic_version-2.10.0-py2.py3-none-any.whl (15 kB)\n",
            "Downloading starlette-0.41.2-py3-none-any.whl (73 kB)\n",
            "\u001b[2K   \u001b[90m━━━━━━━━━━━━━━━━━━━━━━━━━━━━━━━━━━━━━━━━\u001b[0m \u001b[32m73.3/73.3 kB\u001b[0m \u001b[31m6.8 MB/s\u001b[0m eta \u001b[36m0:00:00\u001b[0m\n",
            "\u001b[?25hDownloading uvicorn-0.32.0-py3-none-any.whl (63 kB)\n",
            "\u001b[2K   \u001b[90m━━━━━━━━━━━━━━━━━━━━━━━━━━━━━━━━━━━━━━━━\u001b[0m \u001b[32m63.7/63.7 kB\u001b[0m \u001b[31m5.8 MB/s\u001b[0m eta \u001b[36m0:00:00\u001b[0m\n",
            "\u001b[?25hDownloading ffmpy-0.4.0-py3-none-any.whl (5.8 kB)\n",
            "Downloading pydub-0.25.1-py2.py3-none-any.whl (32 kB)\n",
            "Downloading h11-0.14.0-py3-none-any.whl (58 kB)\n",
            "\u001b[2K   \u001b[90m━━━━━━━━━━━━━━━━━━━━━━━━━━━━━━━━━━━━━━━━\u001b[0m \u001b[32m58.3/58.3 kB\u001b[0m \u001b[31m5.0 MB/s\u001b[0m eta \u001b[36m0:00:00\u001b[0m\n",
            "\u001b[?25hDownloading websockets-12.0-cp310-cp310-manylinux_2_5_x86_64.manylinux1_x86_64.manylinux_2_17_x86_64.manylinux2014_x86_64.whl (130 kB)\n",
            "\u001b[2K   \u001b[90m━━━━━━━━━━━━━━━━━━━━━━━━━━━━━━━━━━━━━━━━\u001b[0m \u001b[32m130.2/130.2 kB\u001b[0m \u001b[31m8.4 MB/s\u001b[0m eta \u001b[36m0:00:00\u001b[0m\n",
            "\u001b[?25h\u001b[33mWARNING: Ignoring invalid distribution -ensorflow (/usr/local/lib/python3.10/dist-packages)\u001b[0m\u001b[33m\n",
            "\u001b[0mInstalling collected packages: pydub, websockets, tomlkit, semantic-version, ruff, python-multipart, orjson, h11, ffmpy, aiofiles, uvicorn, starlette, huggingface-hub, httpcore, httpx, fastapi, safehttpx, gradio-client, gradio\n",
            "  Attempting uninstall: huggingface-hub\n",
            "    Found existing installation: huggingface-hub 0.24.7\n",
            "    Uninstalling huggingface-hub-0.24.7:\n",
            "      Successfully uninstalled huggingface-hub-0.24.7\n",
            "Successfully installed aiofiles-23.2.1 fastapi-0.115.5 ffmpy-0.4.0 gradio-5.6.0 gradio-client-1.4.3 h11-0.14.0 httpcore-1.0.7 httpx-0.27.2 huggingface-hub-0.26.2 orjson-3.10.11 pydub-0.25.1 python-multipart-0.0.12 ruff-0.7.4 safehttpx-0.1.1 semantic-version-2.10.0 starlette-0.41.2 tomlkit-0.12.0 uvicorn-0.32.0 websockets-12.0\n"
          ]
        }
      ]
    },
    {
      "cell_type": "code",
      "source": [
        "# Uninstall the current librosa version\n",
        "!pip uninstall -y librosa\n",
        "\n",
        "# Install a compatible version of librosa (version 0.8.1 works well)\n",
        "!pip install librosa==0.8.1\n",
        "\n",
        "# Install gTTS for text-to-speech conversion\n",
        "!pip install gtts"
      ],
      "metadata": {
        "colab": {
          "base_uri": "https://localhost:8080/"
        },
        "id": "Ry3BKqDwRyTk",
        "outputId": "f5ece23e-aa8a-4bf3-f196-3b10a27254e8"
      },
      "execution_count": null,
      "outputs": [
        {
          "output_type": "stream",
          "name": "stdout",
          "text": [
            "Found existing installation: librosa 0.10.2.post1\n",
            "Uninstalling librosa-0.10.2.post1:\n",
            "  Successfully uninstalled librosa-0.10.2.post1\n",
            "\u001b[33mWARNING: Ignoring invalid distribution -ensorflow (/usr/local/lib/python3.10/dist-packages)\u001b[0m\u001b[33m\n",
            "\u001b[0mCollecting librosa==0.8.1\n",
            "  Downloading librosa-0.8.1-py3-none-any.whl.metadata (6.8 kB)\n",
            "Requirement already satisfied: audioread>=2.0.0 in /usr/local/lib/python3.10/dist-packages (from librosa==0.8.1) (3.0.1)\n",
            "Requirement already satisfied: numpy>=1.15.0 in /usr/local/lib/python3.10/dist-packages (from librosa==0.8.1) (1.23.5)\n",
            "Requirement already satisfied: scipy>=1.0.0 in /usr/local/lib/python3.10/dist-packages (from librosa==0.8.1) (1.13.1)\n",
            "Requirement already satisfied: scikit-learn!=0.19.0,>=0.14.0 in /usr/local/lib/python3.10/dist-packages (from librosa==0.8.1) (1.5.2)\n",
            "Requirement already satisfied: joblib>=0.14 in /usr/local/lib/python3.10/dist-packages (from librosa==0.8.1) (1.4.2)\n",
            "Requirement already satisfied: decorator>=3.0.0 in /usr/local/lib/python3.10/dist-packages (from librosa==0.8.1) (4.4.2)\n",
            "Collecting resampy>=0.2.2 (from librosa==0.8.1)\n",
            "  Downloading resampy-0.4.3-py3-none-any.whl.metadata (3.0 kB)\n",
            "Requirement already satisfied: numba>=0.43.0 in /usr/local/lib/python3.10/dist-packages (from librosa==0.8.1) (0.60.0)\n",
            "Requirement already satisfied: soundfile>=0.10.2 in /usr/local/lib/python3.10/dist-packages (from librosa==0.8.1) (0.12.1)\n",
            "Requirement already satisfied: pooch>=1.0 in /usr/local/lib/python3.10/dist-packages (from librosa==0.8.1) (1.8.2)\n",
            "Requirement already satisfied: packaging>=20.0 in /usr/local/lib/python3.10/dist-packages (from librosa==0.8.1) (24.1)\n",
            "Requirement already satisfied: llvmlite<0.44,>=0.43.0dev0 in /usr/local/lib/python3.10/dist-packages (from numba>=0.43.0->librosa==0.8.1) (0.43.0)\n",
            "Requirement already satisfied: platformdirs>=2.5.0 in /usr/local/lib/python3.10/dist-packages (from pooch>=1.0->librosa==0.8.1) (4.3.6)\n",
            "Requirement already satisfied: requests>=2.19.0 in /usr/local/lib/python3.10/dist-packages (from pooch>=1.0->librosa==0.8.1) (2.32.3)\n",
            "Requirement already satisfied: threadpoolctl>=3.1.0 in /usr/local/lib/python3.10/dist-packages (from scikit-learn!=0.19.0,>=0.14.0->librosa==0.8.1) (3.5.0)\n",
            "Requirement already satisfied: cffi>=1.0 in /usr/local/lib/python3.10/dist-packages (from soundfile>=0.10.2->librosa==0.8.1) (1.17.1)\n",
            "Requirement already satisfied: pycparser in /usr/local/lib/python3.10/dist-packages (from cffi>=1.0->soundfile>=0.10.2->librosa==0.8.1) (2.22)\n",
            "Requirement already satisfied: charset-normalizer<4,>=2 in /usr/local/lib/python3.10/dist-packages (from requests>=2.19.0->pooch>=1.0->librosa==0.8.1) (3.3.2)\n",
            "Requirement already satisfied: idna<4,>=2.5 in /usr/local/lib/python3.10/dist-packages (from requests>=2.19.0->pooch>=1.0->librosa==0.8.1) (3.10)\n",
            "Requirement already satisfied: urllib3<3,>=1.21.1 in /usr/local/lib/python3.10/dist-packages (from requests>=2.19.0->pooch>=1.0->librosa==0.8.1) (2.2.3)\n",
            "Requirement already satisfied: certifi>=2017.4.17 in /usr/local/lib/python3.10/dist-packages (from requests>=2.19.0->pooch>=1.0->librosa==0.8.1) (2024.8.30)\n",
            "Downloading librosa-0.8.1-py3-none-any.whl (203 kB)\n",
            "\u001b[2K   \u001b[90m━━━━━━━━━━━━━━━━━━━━━━━━━━━━━━━━━━━━━━━━\u001b[0m \u001b[32m203.8/203.8 kB\u001b[0m \u001b[31m4.7 MB/s\u001b[0m eta \u001b[36m0:00:00\u001b[0m\n",
            "\u001b[?25hDownloading resampy-0.4.3-py3-none-any.whl (3.1 MB)\n",
            "\u001b[2K   \u001b[90m━━━━━━━━━━━━━━━━━━━━━━━━━━━━━━━━━━━━━━━━\u001b[0m \u001b[32m3.1/3.1 MB\u001b[0m \u001b[31m48.6 MB/s\u001b[0m eta \u001b[36m0:00:00\u001b[0m\n",
            "\u001b[?25h\u001b[33mWARNING: Ignoring invalid distribution -ensorflow (/usr/local/lib/python3.10/dist-packages)\u001b[0m\u001b[33m\n",
            "\u001b[0mInstalling collected packages: resampy, librosa\n",
            "Successfully installed librosa-0.8.1 resampy-0.4.3\n",
            "\u001b[33mWARNING: Ignoring invalid distribution -ensorflow (/usr/local/lib/python3.10/dist-packages)\u001b[0m\u001b[33m\n",
            "\u001b[0mCollecting gtts\n",
            "  Downloading gTTS-2.5.4-py3-none-any.whl.metadata (4.1 kB)\n",
            "Requirement already satisfied: requests<3,>=2.27 in /usr/local/lib/python3.10/dist-packages (from gtts) (2.32.3)\n",
            "Requirement already satisfied: click<8.2,>=7.1 in /usr/local/lib/python3.10/dist-packages (from gtts) (8.1.7)\n",
            "Requirement already satisfied: charset-normalizer<4,>=2 in /usr/local/lib/python3.10/dist-packages (from requests<3,>=2.27->gtts) (3.3.2)\n",
            "Requirement already satisfied: idna<4,>=2.5 in /usr/local/lib/python3.10/dist-packages (from requests<3,>=2.27->gtts) (3.10)\n",
            "Requirement already satisfied: urllib3<3,>=1.21.1 in /usr/local/lib/python3.10/dist-packages (from requests<3,>=2.27->gtts) (2.2.3)\n",
            "Requirement already satisfied: certifi>=2017.4.17 in /usr/local/lib/python3.10/dist-packages (from requests<3,>=2.27->gtts) (2024.8.30)\n",
            "Downloading gTTS-2.5.4-py3-none-any.whl (29 kB)\n",
            "\u001b[33mWARNING: Ignoring invalid distribution -ensorflow (/usr/local/lib/python3.10/dist-packages)\u001b[0m\u001b[33m\n",
            "\u001b[0mInstalling collected packages: gtts\n",
            "Successfully installed gtts-2.5.4\n"
          ]
        }
      ]
    },
    {
      "cell_type": "code",
      "source": [
        "# Import necessary libraries\n",
        "from gtts import gTTS\n",
        "import IPython.display as ipd\n",
        "\n",
        "# Get text input from the user\n",
        "user_text = input(\"Enter the text you want the avatar to speak: \")\n",
        "\n",
        "# Convert text to speech and save as a WAV file\n",
        "tts = gTTS(text=user_text, lang='en', slow=False)\n",
        "tts.save(\"user_audio.wav\")\n",
        "\n",
        "# Play the generated audio to confirm\n",
        "ipd.Audio(\"user_audio.wav\")"
      ],
      "metadata": {
        "colab": {
          "base_uri": "https://localhost:8080/",
          "height": 93
        },
        "id": "6BGjrn1PQTyx",
        "outputId": "a531ef60-db90-4a53-f3e7-e0d7650ca244"
      },
      "execution_count": null,
      "outputs": [
        {
          "name": "stdout",
          "output_type": "stream",
          "text": [
            "Enter the text you want the avatar to speak: Welcome! I’m your digital assistant. \n"
          ]
        },
        {
          "output_type": "execute_result",
          "data": {
            "text/plain": [
              "<IPython.lib.display.Audio object>"
            ],
            "text/html": [
              "\n",
              "                <audio  controls=\"controls\" >\n",
              "                    <source src=\"data:audio/x-wav;base64,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\" type=\"audio/x-wav\" />\n",
              "                    Your browser does not support the audio element.\n",
              "                </audio>\n",
              "              "
            ]
          },
          "metadata": {},
          "execution_count": 6
        }
      ]
    },
    {
      "cell_type": "code",
      "source": [
        "# Define paths for input video and audio files\n",
        "input_video = \"/content/face_avtaar.mp4\"\n",
        "input_audio = \"/content/user_audio.wav\"\n",
        "output_path = \"/content/final_output.mp4\"\n",
        "\n",
        "# Run Wav2Lip inference to create the talking avatar video\n",
        "!cd Wav2Lip && python inference.py \\\n",
        "    --checkpoint_path /content/checkpoints/wav2lip_gan.pth \\\n",
        "    --face \"{input_video}\" \\\n",
        "    --audio \"{input_audio}\" \\\n",
        "    --resize_factor 2 \\\n",
        "    --outfile \"{output_path}\""
      ],
      "metadata": {
        "colab": {
          "base_uri": "https://localhost:8080/"
        },
        "id": "RKRhZob4QvRy",
        "outputId": "b004a93a-853f-4877-f69a-bb873465582e"
      },
      "execution_count": null,
      "outputs": [
        {
          "output_type": "stream",
          "name": "stdout",
          "text": [
            "Using cuda for inference.\n",
            "Reading video frames...\n",
            "Number of frames available for inference: 285\n",
            "(80, 225)\n",
            "Length of mel chunks: 80\n",
            "  0% 0/1 [00:00<?, ?it/s]/content/Wav2Lip/face_detection/detection/sfd/sfd_detector.py:24: FutureWarning: You are using `torch.load` with `weights_only=False` (the current default value), which uses the default pickle module implicitly. It is possible to construct malicious pickle data which will execute arbitrary code during unpickling (See https://github.com/pytorch/pytorch/blob/main/SECURITY.md#untrusted-models for more details). In a future release, the default value for `weights_only` will be flipped to `True`. This limits the functions that could be executed during unpickling. Arbitrary objects will no longer be allowed to be loaded via this mode unless they are explicitly allowlisted by the user via `torch.serialization.add_safe_globals`. We recommend you start setting `weights_only=True` for any use case where you don't have full control of the loaded file. Please open an issue on GitHub for any issues related to this experimental feature.\n",
            "  model_weights = torch.load(path_to_detector)\n",
            "\n",
            "  0% 0/5 [00:00<?, ?it/s]\u001b[A\n",
            " 20% 1/5 [00:11<00:44, 11.22s/it]\u001b[A\n",
            " 40% 2/5 [00:12<00:15,  5.14s/it]\u001b[A\n",
            " 60% 3/5 [00:13<00:06,  3.21s/it]\u001b[A\n",
            " 80% 4/5 [00:13<00:02,  2.31s/it]\u001b[A\n",
            "100% 5/5 [00:14<00:00,  2.96s/it]\n",
            "Load checkpoint from: /content/checkpoints/wav2lip_gan.pth\n",
            "/content/Wav2Lip/inference.py:162: FutureWarning: You are using `torch.load` with `weights_only=False` (the current default value), which uses the default pickle module implicitly. It is possible to construct malicious pickle data which will execute arbitrary code during unpickling (See https://github.com/pytorch/pytorch/blob/main/SECURITY.md#untrusted-models for more details). In a future release, the default value for `weights_only` will be flipped to `True`. This limits the functions that could be executed during unpickling. Arbitrary objects will no longer be allowed to be loaded via this mode unless they are explicitly allowlisted by the user via `torch.serialization.add_safe_globals`. We recommend you start setting `weights_only=True` for any use case where you don't have full control of the loaded file. Please open an issue on GitHub for any issues related to this experimental feature.\n",
            "  checkpoint = torch.load(checkpoint_path)\n",
            "Model loaded\n",
            "100% 1/1 [00:22<00:00, 22.81s/it]\n",
            "ffmpeg version 4.4.2-0ubuntu0.22.04.1 Copyright (c) 2000-2021 the FFmpeg developers\n",
            "  built with gcc 11 (Ubuntu 11.2.0-19ubuntu1)\n",
            "  configuration: --prefix=/usr --extra-version=0ubuntu0.22.04.1 --toolchain=hardened --libdir=/usr/lib/x86_64-linux-gnu --incdir=/usr/include/x86_64-linux-gnu --arch=amd64 --enable-gpl --disable-stripping --enable-gnutls --enable-ladspa --enable-libaom --enable-libass --enable-libbluray --enable-libbs2b --enable-libcaca --enable-libcdio --enable-libcodec2 --enable-libdav1d --enable-libflite --enable-libfontconfig --enable-libfreetype --enable-libfribidi --enable-libgme --enable-libgsm --enable-libjack --enable-libmp3lame --enable-libmysofa --enable-libopenjpeg --enable-libopenmpt --enable-libopus --enable-libpulse --enable-librabbitmq --enable-librubberband --enable-libshine --enable-libsnappy --enable-libsoxr --enable-libspeex --enable-libsrt --enable-libssh --enable-libtheora --enable-libtwolame --enable-libvidstab --enable-libvorbis --enable-libvpx --enable-libwebp --enable-libx265 --enable-libxml2 --enable-libxvid --enable-libzimg --enable-libzmq --enable-libzvbi --enable-lv2 --enable-omx --enable-openal --enable-opencl --enable-opengl --enable-sdl2 --enable-pocketsphinx --enable-librsvg --enable-libmfx --enable-libdc1394 --enable-libdrm --enable-libiec61883 --enable-chromaprint --enable-frei0r --enable-libx264 --enable-shared\n",
            "  libavutil      56. 70.100 / 56. 70.100\n",
            "  libavcodec     58.134.100 / 58.134.100\n",
            "  libavformat    58. 76.100 / 58. 76.100\n",
            "  libavdevice    58. 13.100 / 58. 13.100\n",
            "  libavfilter     7.110.100 /  7.110.100\n",
            "  libswscale      5.  9.100 /  5.  9.100\n",
            "  libswresample   3.  9.100 /  3.  9.100\n",
            "  libpostproc    55.  9.100 / 55.  9.100\n",
            "\u001b[0;35m[mp3 @ 0x5cfc85395240] \u001b[0m\u001b[0;33mEstimating duration from bitrate, this may be inaccurate\n",
            "\u001b[0mInput #0, mp3, from '/content/user_audio.wav':\n",
            "  Duration: 00:00:02.81, start: 0.000000, bitrate: 64 kb/s\n",
            "  Stream #0:0: Audio: mp3, 24000 Hz, mono, fltp, 64 kb/s\n",
            "Input #1, avi, from 'temp/result.avi':\n",
            "  Metadata:\n",
            "    software        : Lavf59.27.100\n",
            "  Duration: 00:00:02.67, start: 0.000000, bitrate: 887 kb/s\n",
            "  Stream #1:0: Video: mpeg4 (Simple Profile) (DIVX / 0x58564944), yuv420p, 640x360 [SAR 1:1 DAR 16:9], 875 kb/s, 30 fps, 30 tbr, 30 tbn, 30 tbc\n",
            "Stream mapping:\n",
            "  Stream #1:0 -> #0:0 (mpeg4 (native) -> h264 (libx264))\n",
            "  Stream #0:0 -> #0:1 (mp3 (mp3float) -> aac (native))\n",
            "Press [q] to stop, [?] for help\n",
            "\u001b[1;36m[libx264 @ 0x5cfc853e73c0] \u001b[0m\u001b[0;33m-qscale is ignored, -crf is recommended.\n",
            "\u001b[0m\u001b[1;36m[libx264 @ 0x5cfc853e73c0] \u001b[0musing SAR=1/1\n",
            "\u001b[1;36m[libx264 @ 0x5cfc853e73c0] \u001b[0musing cpu capabilities: MMX2 SSE2Fast SSSE3 SSE4.2 AVX FMA3 BMI2 AVX2\n",
            "\u001b[1;36m[libx264 @ 0x5cfc853e73c0] \u001b[0mprofile High, level 3.0, 4:2:0, 8-bit\n",
            "\u001b[1;36m[libx264 @ 0x5cfc853e73c0] \u001b[0m264 - core 163 r3060 5db6aa6 - H.264/MPEG-4 AVC codec - Copyleft 2003-2021 - http://www.videolan.org/x264.html - options: cabac=1 ref=3 deblock=1:0:0 analyse=0x3:0x113 me=hex subme=7 psy=1 psy_rd=1.00:0.00 mixed_ref=1 me_range=16 chroma_me=1 trellis=1 8x8dct=1 cqm=0 deadzone=21,11 fast_pskip=1 chroma_qp_offset=-2 threads=3 lookahead_threads=1 sliced_threads=0 nr=0 decimate=1 interlaced=0 bluray_compat=0 constrained_intra=0 bframes=3 b_pyramid=2 b_adapt=1 b_bias=0 direct=1 weightb=1 open_gop=0 weightp=2 keyint=250 keyint_min=25 scenecut=40 intra_refresh=0 rc_lookahead=40 rc=crf mbtree=1 crf=23.0 qcomp=0.60 qpmin=0 qpmax=69 qpstep=4 ip_ratio=1.40 aq=1:1.00\n",
            "Output #0, mp4, to '/content/final_output.mp4':\n",
            "  Metadata:\n",
            "    encoder         : Lavf58.76.100\n",
            "  Stream #0:0: Video: h264 (avc1 / 0x31637661), yuv420p(progressive), 640x360 [SAR 1:1 DAR 16:9], q=2-31, 30 fps, 15360 tbn\n",
            "    Metadata:\n",
            "      encoder         : Lavc58.134.100 libx264\n",
            "    Side data:\n",
            "      cpb: bitrate max/min/avg: 0/0/0 buffer size: 0 vbv_delay: N/A\n",
            "  Stream #0:1: Audio: aac (LC) (mp4a / 0x6134706D), 24000 Hz, mono, fltp, 69 kb/s\n",
            "    Metadata:\n",
            "      encoder         : Lavc58.134.100 aac\n",
            "frame=   80 fps=0.0 q=-1.0 Lsize=     160kB time=00:00:02.77 bitrate= 472.8kbits/s speed=3.99x    \n",
            "video:126kB audio:30kB subtitle:0kB other streams:0kB global headers:0kB muxing overhead: 2.015486%\n",
            "\u001b[1;36m[libx264 @ 0x5cfc853e73c0] \u001b[0mframe I:1     Avg QP:21.92  size: 17923\n",
            "\u001b[1;36m[libx264 @ 0x5cfc853e73c0] \u001b[0mframe P:62    Avg QP:22.21  size:  1729\n",
            "\u001b[1;36m[libx264 @ 0x5cfc853e73c0] \u001b[0mframe B:17    Avg QP:28.54  size:   214\n",
            "\u001b[1;36m[libx264 @ 0x5cfc853e73c0] \u001b[0mconsecutive B-frames: 63.8% 20.0% 11.2%  5.0%\n",
            "\u001b[1;36m[libx264 @ 0x5cfc853e73c0] \u001b[0mmb I  I16..4: 15.5% 81.0%  3.5%\n",
            "\u001b[1;36m[libx264 @ 0x5cfc853e73c0] \u001b[0mmb P  I16..4:  0.4%  1.2%  0.0%  P16..4: 21.5%  6.5%  5.1%  0.0%  0.0%    skip:65.3%\n",
            "\u001b[1;36m[libx264 @ 0x5cfc853e73c0] \u001b[0mmb B  I16..4:  0.1%  0.1%  0.0%  B16..8: 23.1%  0.2%  0.0%  direct: 0.1%  skip:76.3%  L0:37.5% L1:61.5% BI: 1.1%\n",
            "\u001b[1;36m[libx264 @ 0x5cfc853e73c0] \u001b[0m8x8 transform intra:77.7% inter:76.7%\n",
            "\u001b[1;36m[libx264 @ 0x5cfc853e73c0] \u001b[0mcoded y,uvDC,uvAC intra: 63.4% 85.4% 38.1% inter: 7.9% 13.2% 1.8%\n",
            "\u001b[1;36m[libx264 @ 0x5cfc853e73c0] \u001b[0mi16 v,h,dc,p: 16% 63% 14%  7%\n",
            "\u001b[1;36m[libx264 @ 0x5cfc853e73c0] \u001b[0mi8 v,h,dc,ddl,ddr,vr,hd,vl,hu: 22% 29% 28%  3%  3%  3%  2%  5%  5%\n",
            "\u001b[1;36m[libx264 @ 0x5cfc853e73c0] \u001b[0mi4 v,h,dc,ddl,ddr,vr,hd,vl,hu: 44% 24% 18%  1%  3%  1%  3%  3%  2%\n",
            "\u001b[1;36m[libx264 @ 0x5cfc853e73c0] \u001b[0mi8c dc,h,v,p: 40% 35% 17%  8%\n",
            "\u001b[1;36m[libx264 @ 0x5cfc853e73c0] \u001b[0mWeighted P-Frames: Y:0.0% UV:0.0%\n",
            "\u001b[1;36m[libx264 @ 0x5cfc853e73c0] \u001b[0mref P L0: 78.0% 10.8%  8.2%  3.0%\n",
            "\u001b[1;36m[libx264 @ 0x5cfc853e73c0] \u001b[0mref B L0: 90.0%  9.1%  0.9%\n",
            "\u001b[1;36m[libx264 @ 0x5cfc853e73c0] \u001b[0mref B L1: 99.9%  0.1%\n",
            "\u001b[1;36m[libx264 @ 0x5cfc853e73c0] \u001b[0mkb/s:386.24\n",
            "\u001b[1;36m[aac @ 0x5cfc853e9940] \u001b[0mQavg: 14777.223\n"
          ]
        }
      ]
    },
    {
      "cell_type": "code",
      "source": [
        "import gradio as gr\n",
        "from gtts import gTTS\n",
        "import os\n",
        "import time\n",
        "import shutil\n",
        "\n",
        "def generate_video(input_video, text):\n",
        "    try:\n",
        "        # Log the received inputs\n",
        "        print(f\"Received input text: {text}\")\n",
        "        print(f\"Received input video: {input_video}\")\n",
        "\n",
        "        # Validate inputs\n",
        "        if not text.strip():\n",
        "            raise ValueError(\"The input text is empty. Please enter valid text.\")\n",
        "        if input_video is None:\n",
        "            raise ValueError(\"Please upload a video file for the avatar.\")\n",
        "\n",
        "        # Generate unique filenames\n",
        "        timestamp = int(time.time())\n",
        "        audio_path = f\"/content/user_audio_{timestamp}.wav\"\n",
        "        output_path = f\"/content/final_output_{timestamp}.mp4\"\n",
        "\n",
        "        # Generate audio from text using gTTS\n",
        "        tts = gTTS(text=text, lang='en', slow=False)\n",
        "        tts.save(audio_path)\n",
        "\n",
        "        # Run Wav2Lip inference\n",
        "        command = f\"\"\"\n",
        "        cd Wav2Lip && python inference.py \\\n",
        "            --checkpoint_path /content/checkpoints/wav2lip_gan.pth \\\n",
        "            --face \"{input_video}\" \\\n",
        "            --audio \"{audio_path}\" \\\n",
        "            --resize_factor 2 \\\n",
        "            --outfile \"{output_path}\"\n",
        "        \"\"\"\n",
        "        os.system(command)\n",
        "\n",
        "        # Check if the video was generated successfully\n",
        "        if not os.path.exists(output_path):\n",
        "            raise FileNotFoundError(\"Failed to generate the video. Please check the inputs.\")\n",
        "\n",
        "        # Clean up temporary files\n",
        "        try:\n",
        "            os.remove(audio_path)\n",
        "        except:\n",
        "            pass\n",
        "\n",
        "        return output_path\n",
        "\n",
        "    except Exception as e:\n",
        "        print(f\"Error: {e}\")\n",
        "        return None, f\"An error occurred: {str(e)}\"\n",
        "\n",
        "# Gradio Interface Description\n",
        "description = \"\"\"\n",
        "This tool generates a talking avatar video by synchronizing the input text with your uploaded video.\n",
        "\n",
        "Instructions:\n",
        "1. **Upload your avatar video** - Upload a video file showing a face that will be animated\n",
        "2. **Enter the text** that you want the avatar to say\n",
        "3. **Click Submit** to generate the video\n",
        "4. **Wait for the video** to be generated\n",
        "\n",
        "Note: For best results, upload a clear video of a face looking directly at the camera.\n",
        "\"\"\"\n",
        "\n",
        "# Input validation functions\n",
        "def validate_video(video):\n",
        "    if video is None:\n",
        "        return None\n",
        "    # Add any specific video validation here\n",
        "    return video\n",
        "\n",
        "# Gradio Interface\n",
        "interface = gr.Interface(\n",
        "    fn=generate_video,\n",
        "    inputs=[\n",
        "        gr.Video(label=\"Upload Avatar Video\"),\n",
        "        gr.Textbox(lines=2, placeholder=\"Enter your text here\", label=\"Input Text\")\n",
        "    ],\n",
        "    outputs=[\n",
        "        gr.Video(label=\"Generated Talking Avatar Video\"),\n",
        "    ],\n",
        "    title=\"Text-to-Talking Video Avatar Generator\",\n",
        "    description=description,\n",
        "    examples=[\n",
        "        [\"/content/face_avatar.mp4\", \"Hello! This is a demo of the talking avatar generator.\"]\n",
        "    ]\n",
        ")\n",
        "\n",
        "# Launch the Gradio interface\n",
        "interface.launch(debug=True)"
      ],
      "metadata": {
        "colab": {
          "base_uri": "https://localhost:8080/",
          "height": 723
        },
        "id": "r2sa7ET1dTub",
        "outputId": "c74303bf-c9c7-4fe4-a877-55a48abf69c7"
      },
      "execution_count": null,
      "outputs": [
        {
          "metadata": {
            "tags": null
          },
          "name": "stdout",
          "output_type": "stream",
          "text": [
            "Running Gradio in a Colab notebook requires sharing enabled. Automatically setting `share=True` (you can turn this off by setting `share=False` in `launch()` explicitly).\n",
            "\n",
            "Colab notebook detected. This cell will run indefinitely so that you can see errors and logs. To turn off, set debug=False in launch().\n",
            "* Running on public URL: https://e024ffd672cbbfc51f.gradio.live\n",
            "\n",
            "This share link expires in 72 hours. For free permanent hosting and GPU upgrades, run `gradio deploy` from the terminal in the working directory to deploy to Hugging Face Spaces (https://huggingface.co/spaces)\n"
          ]
        },
        {
          "data": {
            "text/html": [
              "<div><iframe src=\"https://e024ffd672cbbfc51f.gradio.live\" width=\"100%\" height=\"500\" allow=\"autoplay; camera; microphone; clipboard-read; clipboard-write;\" frameborder=\"0\" allowfullscreen></iframe></div>"
            ],
            "text/plain": [
              "<IPython.core.display.HTML object>"
            ]
          },
          "metadata": {},
          "output_type": "display_data"
        },
        {
          "metadata": {
            "tags": null
          },
          "name": "stdout",
          "output_type": "stream",
          "text": [
            "Received input text: Welcome! I’m your digital assistant. Upload an video, enter some text, and I’ll bring your avatar to life with a realistic video. Let’s get started!\n",
            "Received input video: /tmp/gradio/0e058e10cd1dcb9f44c2b49faf0bc9ae36c2ce3bc7edcbae820464e8d41f023a/face_avtaar.mp4\n",
            "Received input text: Welcome! I’m your digital assistant. Upload an video, enter some text, and I’ll bring your avatar to life with a realistic video. Let’s get started!\n",
            "Received input video: /tmp/gradio/0e058e10cd1dcb9f44c2b49faf0bc9ae36c2ce3bc7edcbae820464e8d41f023a/face_avtaar.mp4\n"
          ]
        }
      ]
    }
  ]
}